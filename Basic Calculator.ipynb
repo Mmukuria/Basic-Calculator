{
 "cells": [
  {
   "cell_type": "code",
   "execution_count": null,
   "id": "488825ee",
   "metadata": {},
   "outputs": [],
   "source": [
    "# Basic Calculator Program\n",
    "\n",
    "# Ask user for input\n",
    "num1 = float(input(\"Enter the first number: \"))\n",
    "num2 = float(input(\"Enter the second number: \"))\n",
    "operation = input(\"Enter an operation (+, -, *, /): \")\n",
    "\n",
    "# Perform the calculation\n",
    "if operation == '+':\n",
    "    result = num1 + num2\n",
    "    print(f\"{num1} + {num2} = {result}\")\n",
    "elif operation == '-':\n",
    "    result = num1 - num2\n",
    "    print(f\"{num1} - {num2} = {result}\")\n",
    "elif operation == '*':\n",
    "    result = num1 * num2\n",
    "    print(f\"{num1} * {num2} = {result}\")\n",
    "elif operation == '/':\n",
    "    if num2 != 0:\n",
    "        result = num1 / num2\n",
    "        print(f\"{num1} / {num2} = {result}\")\n",
    "    else:\n",
    "        print(\"Error: Cannot divide by zero.\")\n",
    "else:\n",
    "    print(\"Invalid operation. Please use +, -, *, or /.\")\n"
   ]
  },
  {
   "cell_type": "code",
   "execution_count": null,
   "id": "62253132",
   "metadata": {},
   "outputs": [],
   "source": []
  }
 ],
 "metadata": {
  "language_info": {
   "name": "python"
  }
 },
 "nbformat": 4,
 "nbformat_minor": 5
}
